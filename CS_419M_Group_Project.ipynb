{
  "cells": [
    {
      "cell_type": "code",
      "execution_count": null,
      "metadata": {
        "id": "C17whBaAjk2y"
      },
      "outputs": [],
      "source": [
        "import os\n",
        "import numpy as np\n",
        "import pandas as pd\n",
        "import seaborn as sns\n",
        "import matplotlib.pyplot as plt\n",
        "from sklearn.preprocessing import StandardScaler\n",
        "from sklearn.model_selection import train_test_split\n",
        "from sklearn.tree import DecisionTreeClassifier\n",
        "from sklearn.ensemble import RandomForestClassifier\n",
        "from sklearn.metrics import accuracy_score\n",
        "from sklearn.metrics import confusion_matrix\n",
        "from sklearn.metrics import precision_score\n",
        "from sklearn.metrics import recall_score\n",
        "from sklearn.metrics import f1_score\n",
        "from sklearn import svm"
      ]
    },
    {
      "cell_type": "code",
      "execution_count": null,
      "metadata": {
        "id": "y2x0nF_pkb3I"
      },
      "outputs": [],
      "source": [
        "data=pd.read_csv(\"creditcard.csv\")"
      ]
    },
    {
      "cell_type": "code",
      "execution_count": null,
      "metadata": {
        "colab": {
          "base_uri": "https://localhost:8080/",
          "height": 299
        },
        "id": "sKV2K7tukdHM",
        "outputId": "9e120323-93ec-414a-cbfb-11ab49e44fc3"
      },
      "outputs": [
        {
          "output_type": "execute_result",
          "data": {
            "text/plain": [
              "   Time        V1        V2        V3        V4        V5        V6        V7  \\\n",
              "0   0.0 -1.359807 -0.072781  2.536347  1.378155 -0.338321  0.462388  0.239599   \n",
              "1   0.0  1.191857  0.266151  0.166480  0.448154  0.060018 -0.082361 -0.078803   \n",
              "2   1.0 -1.358354 -1.340163  1.773209  0.379780 -0.503198  1.800499  0.791461   \n",
              "3   1.0 -0.966272 -0.185226  1.792993 -0.863291 -0.010309  1.247203  0.237609   \n",
              "4   2.0 -1.158233  0.877737  1.548718  0.403034 -0.407193  0.095921  0.592941   \n",
              "\n",
              "         V8        V9  ...       V21       V22       V23       V24       V25  \\\n",
              "0  0.098698  0.363787  ... -0.018307  0.277838 -0.110474  0.066928  0.128539   \n",
              "1  0.085102 -0.255425  ... -0.225775 -0.638672  0.101288 -0.339846  0.167170   \n",
              "2  0.247676 -1.514654  ...  0.247998  0.771679  0.909412 -0.689281 -0.327642   \n",
              "3  0.377436 -1.387024  ... -0.108300  0.005274 -0.190321 -1.175575  0.647376   \n",
              "4 -0.270533  0.817739  ... -0.009431  0.798278 -0.137458  0.141267 -0.206010   \n",
              "\n",
              "        V26       V27       V28  Amount  Class  \n",
              "0 -0.189115  0.133558 -0.021053  149.62      0  \n",
              "1  0.125895 -0.008983  0.014724    2.69      0  \n",
              "2 -0.139097 -0.055353 -0.059752  378.66      0  \n",
              "3 -0.221929  0.062723  0.061458  123.50      0  \n",
              "4  0.502292  0.219422  0.215153   69.99      0  \n",
              "\n",
              "[5 rows x 31 columns]"
            ],
            "text/html": [
              "\n",
              "  <div id=\"df-46c75362-8cb6-43a6-9fb2-40b944a7b6f0\">\n",
              "    <div class=\"colab-df-container\">\n",
              "      <div>\n",
              "<style scoped>\n",
              "    .dataframe tbody tr th:only-of-type {\n",
              "        vertical-align: middle;\n",
              "    }\n",
              "\n",
              "    .dataframe tbody tr th {\n",
              "        vertical-align: top;\n",
              "    }\n",
              "\n",
              "    .dataframe thead th {\n",
              "        text-align: right;\n",
              "    }\n",
              "</style>\n",
              "<table border=\"1\" class=\"dataframe\">\n",
              "  <thead>\n",
              "    <tr style=\"text-align: right;\">\n",
              "      <th></th>\n",
              "      <th>Time</th>\n",
              "      <th>V1</th>\n",
              "      <th>V2</th>\n",
              "      <th>V3</th>\n",
              "      <th>V4</th>\n",
              "      <th>V5</th>\n",
              "      <th>V6</th>\n",
              "      <th>V7</th>\n",
              "      <th>V8</th>\n",
              "      <th>V9</th>\n",
              "      <th>...</th>\n",
              "      <th>V21</th>\n",
              "      <th>V22</th>\n",
              "      <th>V23</th>\n",
              "      <th>V24</th>\n",
              "      <th>V25</th>\n",
              "      <th>V26</th>\n",
              "      <th>V27</th>\n",
              "      <th>V28</th>\n",
              "      <th>Amount</th>\n",
              "      <th>Class</th>\n",
              "    </tr>\n",
              "  </thead>\n",
              "  <tbody>\n",
              "    <tr>\n",
              "      <th>0</th>\n",
              "      <td>0.0</td>\n",
              "      <td>-1.359807</td>\n",
              "      <td>-0.072781</td>\n",
              "      <td>2.536347</td>\n",
              "      <td>1.378155</td>\n",
              "      <td>-0.338321</td>\n",
              "      <td>0.462388</td>\n",
              "      <td>0.239599</td>\n",
              "      <td>0.098698</td>\n",
              "      <td>0.363787</td>\n",
              "      <td>...</td>\n",
              "      <td>-0.018307</td>\n",
              "      <td>0.277838</td>\n",
              "      <td>-0.110474</td>\n",
              "      <td>0.066928</td>\n",
              "      <td>0.128539</td>\n",
              "      <td>-0.189115</td>\n",
              "      <td>0.133558</td>\n",
              "      <td>-0.021053</td>\n",
              "      <td>149.62</td>\n",
              "      <td>0</td>\n",
              "    </tr>\n",
              "    <tr>\n",
              "      <th>1</th>\n",
              "      <td>0.0</td>\n",
              "      <td>1.191857</td>\n",
              "      <td>0.266151</td>\n",
              "      <td>0.166480</td>\n",
              "      <td>0.448154</td>\n",
              "      <td>0.060018</td>\n",
              "      <td>-0.082361</td>\n",
              "      <td>-0.078803</td>\n",
              "      <td>0.085102</td>\n",
              "      <td>-0.255425</td>\n",
              "      <td>...</td>\n",
              "      <td>-0.225775</td>\n",
              "      <td>-0.638672</td>\n",
              "      <td>0.101288</td>\n",
              "      <td>-0.339846</td>\n",
              "      <td>0.167170</td>\n",
              "      <td>0.125895</td>\n",
              "      <td>-0.008983</td>\n",
              "      <td>0.014724</td>\n",
              "      <td>2.69</td>\n",
              "      <td>0</td>\n",
              "    </tr>\n",
              "    <tr>\n",
              "      <th>2</th>\n",
              "      <td>1.0</td>\n",
              "      <td>-1.358354</td>\n",
              "      <td>-1.340163</td>\n",
              "      <td>1.773209</td>\n",
              "      <td>0.379780</td>\n",
              "      <td>-0.503198</td>\n",
              "      <td>1.800499</td>\n",
              "      <td>0.791461</td>\n",
              "      <td>0.247676</td>\n",
              "      <td>-1.514654</td>\n",
              "      <td>...</td>\n",
              "      <td>0.247998</td>\n",
              "      <td>0.771679</td>\n",
              "      <td>0.909412</td>\n",
              "      <td>-0.689281</td>\n",
              "      <td>-0.327642</td>\n",
              "      <td>-0.139097</td>\n",
              "      <td>-0.055353</td>\n",
              "      <td>-0.059752</td>\n",
              "      <td>378.66</td>\n",
              "      <td>0</td>\n",
              "    </tr>\n",
              "    <tr>\n",
              "      <th>3</th>\n",
              "      <td>1.0</td>\n",
              "      <td>-0.966272</td>\n",
              "      <td>-0.185226</td>\n",
              "      <td>1.792993</td>\n",
              "      <td>-0.863291</td>\n",
              "      <td>-0.010309</td>\n",
              "      <td>1.247203</td>\n",
              "      <td>0.237609</td>\n",
              "      <td>0.377436</td>\n",
              "      <td>-1.387024</td>\n",
              "      <td>...</td>\n",
              "      <td>-0.108300</td>\n",
              "      <td>0.005274</td>\n",
              "      <td>-0.190321</td>\n",
              "      <td>-1.175575</td>\n",
              "      <td>0.647376</td>\n",
              "      <td>-0.221929</td>\n",
              "      <td>0.062723</td>\n",
              "      <td>0.061458</td>\n",
              "      <td>123.50</td>\n",
              "      <td>0</td>\n",
              "    </tr>\n",
              "    <tr>\n",
              "      <th>4</th>\n",
              "      <td>2.0</td>\n",
              "      <td>-1.158233</td>\n",
              "      <td>0.877737</td>\n",
              "      <td>1.548718</td>\n",
              "      <td>0.403034</td>\n",
              "      <td>-0.407193</td>\n",
              "      <td>0.095921</td>\n",
              "      <td>0.592941</td>\n",
              "      <td>-0.270533</td>\n",
              "      <td>0.817739</td>\n",
              "      <td>...</td>\n",
              "      <td>-0.009431</td>\n",
              "      <td>0.798278</td>\n",
              "      <td>-0.137458</td>\n",
              "      <td>0.141267</td>\n",
              "      <td>-0.206010</td>\n",
              "      <td>0.502292</td>\n",
              "      <td>0.219422</td>\n",
              "      <td>0.215153</td>\n",
              "      <td>69.99</td>\n",
              "      <td>0</td>\n",
              "    </tr>\n",
              "  </tbody>\n",
              "</table>\n",
              "<p>5 rows × 31 columns</p>\n",
              "</div>\n",
              "      <button class=\"colab-df-convert\" onclick=\"convertToInteractive('df-46c75362-8cb6-43a6-9fb2-40b944a7b6f0')\"\n",
              "              title=\"Convert this dataframe to an interactive table.\"\n",
              "              style=\"display:none;\">\n",
              "        \n",
              "  <svg xmlns=\"http://www.w3.org/2000/svg\" height=\"24px\"viewBox=\"0 0 24 24\"\n",
              "       width=\"24px\">\n",
              "    <path d=\"M0 0h24v24H0V0z\" fill=\"none\"/>\n",
              "    <path d=\"M18.56 5.44l.94 2.06.94-2.06 2.06-.94-2.06-.94-.94-2.06-.94 2.06-2.06.94zm-11 1L8.5 8.5l.94-2.06 2.06-.94-2.06-.94L8.5 2.5l-.94 2.06-2.06.94zm10 10l.94 2.06.94-2.06 2.06-.94-2.06-.94-.94-2.06-.94 2.06-2.06.94z\"/><path d=\"M17.41 7.96l-1.37-1.37c-.4-.4-.92-.59-1.43-.59-.52 0-1.04.2-1.43.59L10.3 9.45l-7.72 7.72c-.78.78-.78 2.05 0 2.83L4 21.41c.39.39.9.59 1.41.59.51 0 1.02-.2 1.41-.59l7.78-7.78 2.81-2.81c.8-.78.8-2.07 0-2.86zM5.41 20L4 18.59l7.72-7.72 1.47 1.35L5.41 20z\"/>\n",
              "  </svg>\n",
              "      </button>\n",
              "      \n",
              "  <style>\n",
              "    .colab-df-container {\n",
              "      display:flex;\n",
              "      flex-wrap:wrap;\n",
              "      gap: 12px;\n",
              "    }\n",
              "\n",
              "    .colab-df-convert {\n",
              "      background-color: #E8F0FE;\n",
              "      border: none;\n",
              "      border-radius: 50%;\n",
              "      cursor: pointer;\n",
              "      display: none;\n",
              "      fill: #1967D2;\n",
              "      height: 32px;\n",
              "      padding: 0 0 0 0;\n",
              "      width: 32px;\n",
              "    }\n",
              "\n",
              "    .colab-df-convert:hover {\n",
              "      background-color: #E2EBFA;\n",
              "      box-shadow: 0px 1px 2px rgba(60, 64, 67, 0.3), 0px 1px 3px 1px rgba(60, 64, 67, 0.15);\n",
              "      fill: #174EA6;\n",
              "    }\n",
              "\n",
              "    [theme=dark] .colab-df-convert {\n",
              "      background-color: #3B4455;\n",
              "      fill: #D2E3FC;\n",
              "    }\n",
              "\n",
              "    [theme=dark] .colab-df-convert:hover {\n",
              "      background-color: #434B5C;\n",
              "      box-shadow: 0px 1px 3px 1px rgba(0, 0, 0, 0.15);\n",
              "      filter: drop-shadow(0px 1px 2px rgba(0, 0, 0, 0.3));\n",
              "      fill: #FFFFFF;\n",
              "    }\n",
              "  </style>\n",
              "\n",
              "      <script>\n",
              "        const buttonEl =\n",
              "          document.querySelector('#df-46c75362-8cb6-43a6-9fb2-40b944a7b6f0 button.colab-df-convert');\n",
              "        buttonEl.style.display =\n",
              "          google.colab.kernel.accessAllowed ? 'block' : 'none';\n",
              "\n",
              "        async function convertToInteractive(key) {\n",
              "          const element = document.querySelector('#df-46c75362-8cb6-43a6-9fb2-40b944a7b6f0');\n",
              "          const dataTable =\n",
              "            await google.colab.kernel.invokeFunction('convertToInteractive',\n",
              "                                                     [key], {});\n",
              "          if (!dataTable) return;\n",
              "\n",
              "          const docLinkHtml = 'Like what you see? Visit the ' +\n",
              "            '<a target=\"_blank\" href=https://colab.research.google.com/notebooks/data_table.ipynb>data table notebook</a>'\n",
              "            + ' to learn more about interactive tables.';\n",
              "          element.innerHTML = '';\n",
              "          dataTable['output_type'] = 'display_data';\n",
              "          await google.colab.output.renderOutput(dataTable, element);\n",
              "          const docLink = document.createElement('div');\n",
              "          docLink.innerHTML = docLinkHtml;\n",
              "          element.appendChild(docLink);\n",
              "        }\n",
              "      </script>\n",
              "    </div>\n",
              "  </div>\n",
              "  "
            ]
          },
          "metadata": {},
          "execution_count": 4
        }
      ],
      "source": [
        "data.head()"
      ]
    },
    {
      "cell_type": "code",
      "execution_count": null,
      "metadata": {
        "colab": {
          "base_uri": "https://localhost:8080/"
        },
        "id": "Ef3jQ_KQnLcp",
        "outputId": "3cc70ca3-84b7-4475-e7f1-12cb4eacdf1b"
      },
      "outputs": [
        {
          "output_type": "stream",
          "name": "stdout",
          "text": [
            "Number of Transanctions: 284807\n",
            "Number of Fraudulent Transanctions: 492\n",
            "Number of Valid Transanctions: 284315\n",
            "Percentage of Fraudulent Transanctions: 0.1727485630620034\n"
          ]
        }
      ],
      "source": [
        "Number_Of_Tranactions = len(data)                                                 # Total Number of Transactions\n",
        "Number_Of_Fraudulent_Transactions = len(data[data['Class']==1])                   # Total Number of Fraudulent Transactions\n",
        "Number_Of_Valid_Transactions = len(data[data['Class']==0])                        # Total Number of Valid Transactions\n",
        "Fraud_Percentage = Number_Of_Fraudulent_Transactions*100/Number_Of_Tranactions    # Fraud Percentage\n",
        "print(\"Number of Transanctions: \" + str(Number_Of_Tranactions))\n",
        "print(\"Number of Fraudulent Transanctions: \" + str(Number_Of_Fraudulent_Transactions))\n",
        "print(\"Number of Valid Transanctions: \" + str(Number_Of_Valid_Transactions))\n",
        "print(\"Percentage of Fraudulent Transanctions: \" + str(Fraud_Percentage))"
      ]
    },
    {
      "cell_type": "code",
      "execution_count": null,
      "metadata": {
        "colab": {
          "base_uri": "https://localhost:8080/"
        },
        "id": "rTNqTE1JoRD5",
        "outputId": "242f19aa-8fa6-4a9c-f4f5-c1422f15d771"
      },
      "outputs": [
        {
          "output_type": "stream",
          "name": "stdout",
          "text": [
            "<class 'pandas.core.frame.DataFrame'>\n",
            "RangeIndex: 284807 entries, 0 to 284806\n",
            "Data columns (total 31 columns):\n",
            " #   Column  Non-Null Count   Dtype  \n",
            "---  ------  --------------   -----  \n",
            " 0   Time    284807 non-null  float64\n",
            " 1   V1      284807 non-null  float64\n",
            " 2   V2      284807 non-null  float64\n",
            " 3   V3      284807 non-null  float64\n",
            " 4   V4      284807 non-null  float64\n",
            " 5   V5      284807 non-null  float64\n",
            " 6   V6      284807 non-null  float64\n",
            " 7   V7      284807 non-null  float64\n",
            " 8   V8      284807 non-null  float64\n",
            " 9   V9      284807 non-null  float64\n",
            " 10  V10     284807 non-null  float64\n",
            " 11  V11     284807 non-null  float64\n",
            " 12  V12     284807 non-null  float64\n",
            " 13  V13     284807 non-null  float64\n",
            " 14  V14     284807 non-null  float64\n",
            " 15  V15     284807 non-null  float64\n",
            " 16  V16     284807 non-null  float64\n",
            " 17  V17     284807 non-null  float64\n",
            " 18  V18     284807 non-null  float64\n",
            " 19  V19     284807 non-null  float64\n",
            " 20  V20     284807 non-null  float64\n",
            " 21  V21     284807 non-null  float64\n",
            " 22  V22     284807 non-null  float64\n",
            " 23  V23     284807 non-null  float64\n",
            " 24  V24     284807 non-null  float64\n",
            " 25  V25     284807 non-null  float64\n",
            " 26  V26     284807 non-null  float64\n",
            " 27  V27     284807 non-null  float64\n",
            " 28  V28     284807 non-null  float64\n",
            " 29  Amount  284807 non-null  float64\n",
            " 30  Class   284807 non-null  int64  \n",
            "dtypes: float64(30), int64(1)\n",
            "memory usage: 67.4 MB\n"
          ]
        }
      ],
      "source": [
        "data.info() # No null values"
      ]
    },
    {
      "cell_type": "code",
      "execution_count": null,
      "metadata": {
        "id": "kXH_5TRWvhqB"
      },
      "outputs": [],
      "source": [
        "data.drop(['Time'], axis=1, inplace=True) # Remove the column 'Time'"
      ]
    },
    {
      "cell_type": "code",
      "execution_count": null,
      "metadata": {
        "colab": {
          "base_uri": "https://localhost:8080/"
        },
        "id": "PDFM2PT4wk3G",
        "outputId": "4eb3cfef-0203-4ee2-c272-f0256a1ee485"
      },
      "outputs": [
        {
          "output_type": "execute_result",
          "data": {
            "text/plain": [
              "(284807, 30)"
            ]
          },
          "metadata": {},
          "execution_count": 8
        }
      ],
      "source": [
        "data.shape # Shape of data before removing duplicates"
      ]
    },
    {
      "cell_type": "code",
      "execution_count": null,
      "metadata": {
        "id": "o9VXg-hIwV14"
      },
      "outputs": [],
      "source": [
        "data.drop_duplicates(inplace=True) # Remove duplicate rows"
      ]
    },
    {
      "cell_type": "code",
      "execution_count": null,
      "metadata": {
        "colab": {
          "base_uri": "https://localhost:8080/"
        },
        "id": "dn096QVowgAt",
        "outputId": "6c1fc8e7-71be-4472-96bb-376947260a7f"
      },
      "outputs": [
        {
          "output_type": "execute_result",
          "data": {
            "text/plain": [
              "(275663, 30)"
            ]
          },
          "metadata": {},
          "execution_count": 10
        }
      ],
      "source": [
        "data.shape # Shape of data after removing duplicates"
      ]
    },
    {
      "cell_type": "code",
      "execution_count": null,
      "metadata": {
        "id": "PVIKNsmG0LQS"
      },
      "outputs": [],
      "source": [
        "\n",
        "scaler = StandardScaler()\n",
        "data['Amount']=scaler.fit_transform(data['Amount'].values.reshape(-1,1)) # Normalising the Amount"
      ]
    },
    {
      "cell_type": "code",
      "execution_count": null,
      "metadata": {
        "id": "7P-eMR0zzUMg"
      },
      "outputs": [],
      "source": [
        "X = data.drop('Class', axis = 1).values # Independent Variables\n",
        "y = data['Class'].values # Dependant Variable"
      ]
    },
    {
      "cell_type": "code",
      "execution_count": null,
      "metadata": {
        "id": "5RTN5aPOzgqg"
      },
      "outputs": [],
      "source": [
        "\n",
        "\n",
        "X_train, X_validation, y_train, y_validation = train_test_split(X, y, train_size=0.8) # Split the data into training and (validation + testing) data\n",
        "\n",
        "# X_validation, X_test, y_validation, y_test = train_test_split(X_test_validation, y_test_validation, test_size=0.5) # Further split the (validation + testing) data into validation and testing data\n"
      ]
    },
    {
      "cell_type": "markdown",
      "source": [
        "### Decision Tree"
      ],
      "metadata": {
        "id": "emsWpLGr0ogU"
      }
    },
    {
      "cell_type": "code",
      "execution_count": null,
      "metadata": {
        "colab": {
          "base_uri": "https://localhost:8080/"
        },
        "id": "5uhJqLET2oPK",
        "outputId": "50c2e3e2-8b5a-4c40-cb73-b76a53b3aa81"
      },
      "outputs": [
        {
          "output_type": "stream",
          "name": "stdout",
          "text": [
            "accuracy :0.9990205503056245\n",
            "precision :0.7204301075268817\n",
            "recall: 0.7052631578947368\n",
            "f1 score: 0.7127659574468086\n"
          ]
        }
      ],
      "source": [
        "Decision_Tree_Classifier = DecisionTreeClassifier(max_depth=35)\n",
        "Decision_Tree_Classifier.fit(X_train,y_train)\n",
        "y_predicted_validation = Decision_Tree_Classifier.predict(X_validation)\n",
        "\n",
        "\n",
        "print('accuracy :{}'.format(accuracy_score(y_validation, y_predicted_validation)))\n",
        "print('precision :{}'.format(precision_score(y_validation, y_predicted_validation)))\n",
        "print('recall: {}'.format(recall_score(y_validation, y_predicted_validation)))\n",
        "print('f1 score: {}'.format(f1_score(y_validation, y_predicted_validation)))"
      ]
    },
    {
      "cell_type": "markdown",
      "source": [
        "### Random Forest"
      ],
      "metadata": {
        "id": "2OAwbAmm1J-0"
      }
    },
    {
      "cell_type": "code",
      "source": [
        "Random_Forest_Classifier = RandomForestClassifier(n_estimators = 20, criterion = 'entropy', random_state = 0)\n",
        "Random_Forest_Classifier.fit(X_train, y_train)\n",
        "y_predicted_validation = Random_Forest_Classifier.predict(X_validation)\n",
        "\n",
        "print('accuracy :{}'.format(accuracy_score(y_validation, y_predicted_validation)))\n",
        "print('precision :{}'.format(precision_score(y_validation, y_predicted_validation)))\n",
        "print('recall: {}'.format(recall_score(y_validation, y_predicted_validation)))\n",
        "print('f1 score: {}'.format(f1_score(y_validation, y_predicted_validation)))"
      ],
      "metadata": {
        "colab": {
          "base_uri": "https://localhost:8080/"
        },
        "id": "kdZBQjcIASur",
        "outputId": "1d18c347-b0e7-4c9b-abfc-50a128ae1d0e"
      },
      "execution_count": null,
      "outputs": [
        {
          "output_type": "stream",
          "name": "stdout",
          "text": [
            "accuracy :0.9995284131101155\n",
            "precision :0.9259259259259259\n",
            "recall: 0.7894736842105263\n",
            "f1 score: 0.8522727272727273\n"
          ]
        }
      ]
    },
    {
      "cell_type": "markdown",
      "source": [
        "### SVM"
      ],
      "metadata": {
        "id": "-vYBMvMX7bMI"
      }
    },
    {
      "cell_type": "code",
      "execution_count": null,
      "metadata": {
        "colab": {
          "base_uri": "https://localhost:8080/"
        },
        "id": "5Ju1h8Dh1ykH",
        "outputId": "7274e25d-43c6-477e-f550-3705d4f9d5be"
      },
      "outputs": [
        {
          "output_type": "stream",
          "name": "stdout",
          "text": [
            "accuracy :0.9994014474089928\n",
            "precision :0.9305555555555556\n",
            "recall: 0.7052631578947368\n",
            "f1 score: 0.8023952095808383\n"
          ]
        }
      ],
      "source": [
        "clf = svm.SVC()\n",
        "clf.fit(X_train, y_train)\n",
        "y_predicted_validation = clf.predict(X_validation)\n",
        "print('accuracy :{}'.format(accuracy_score(y_validation, y_predicted_validation)))\n",
        "print('precision :{}'.format(precision_score(y_validation, y_predicted_validation)))\n",
        "print('recall: {}'.format(recall_score(y_validation, y_predicted_validation)))\n",
        "print('f1 score: {}'.format(f1_score(y_validation, y_predicted_validation)))"
      ]
    },
    {
      "cell_type": "code",
      "execution_count": null,
      "metadata": {
        "id": "yT06LUCh3DbH"
      },
      "outputs": [],
      "source": [
        "wclf = svm.SVC(kernel=\"linear\", class_weight={1: 600})\n",
        "wclf.fit(X_train, y_train)\n",
        "y_predicted_validation = wclf.predict(X_validation)\n",
        "print('accuracy :{}'.format(accuracy_score(y_validation, y_predicted_validation)))\n",
        "print('precision :{}'.format(precision_score(y_validation, y_predicted_validation)))\n",
        "print('recall: {}'.format(recall_score(y_validation, y_predicted_validation)))\n",
        "print('f1 score: {}'.format(f1_score(y_validation, y_predicted_validation)))"
      ]
    },
    {
      "cell_type": "markdown",
      "metadata": {
        "id": "hYPhQvnR-8X-"
      },
      "source": [
        "# Creating Balanced DataSet"
      ]
    },
    {
      "cell_type": "code",
      "execution_count": null,
      "metadata": {
        "id": "sru9OgdJ6rsF"
      },
      "outputs": [],
      "source": [
        "fraud_data=data[data['Class']==1]\n",
        "non_fraud_data=data[data['Class']==0]"
      ]
    },
    {
      "cell_type": "code",
      "execution_count": null,
      "metadata": {
        "id": "gYWShWG97gui"
      },
      "outputs": [],
      "source": [
        "non_fraud_data_sample = non_fraud_data.sample(n = fraud_data.size)"
      ]
    },
    {
      "cell_type": "code",
      "execution_count": null,
      "metadata": {
        "id": "6jPlTUcq7xz8"
      },
      "outputs": [],
      "source": [
        "bal_data = pd.concat([non_fraud_data_sample, fraud_data])"
      ]
    },
    {
      "cell_type": "code",
      "execution_count": null,
      "metadata": {
        "id": "unpUvXmN8dRF"
      },
      "outputs": [],
      "source": [
        "X_bal = data.drop('Class', axis = 1).values # Independent Variables\n",
        "y_bal = data['Class'].values # Dependant Variable\n",
        "\n",
        "X_bal_train, X_bal_validation, y_bal_train, y_bal_validation = train_test_split(X_bal, y_bal, train_size=0.8) # Split the data into training and (validation + testing) data\n",
        "\n",
        "# X_validation, X_test, y_validation, y_test = train_test_split(X_test_validation, y_test_validation, test_size=0.5) # Further split the (validation + testing) data into validation and testing data\n"
      ]
    },
    {
      "cell_type": "code",
      "execution_count": null,
      "metadata": {
        "colab": {
          "base_uri": "https://localhost:8080/"
        },
        "id": "pMuAP2Lz8gkj",
        "outputId": "eeba2f4b-7f3c-42fd-83f3-9a879382bc94"
      },
      "outputs": [
        {
          "output_type": "stream",
          "name": "stdout",
          "text": [
            "accuracy :0.9994558612809026\n",
            "precision :0.8481012658227848\n",
            "recall: 0.788235294117647\n",
            "f1 score: 0.8170731707317074\n"
          ]
        }
      ],
      "source": [
        "Decision_Tree_Classifier = DecisionTreeClassifier(max_depth=35)\n",
        "Decision_Tree_Classifier.fit(X_bal_train,y_bal_train)\n",
        "y_bal_predicted_validation = Decision_Tree_Classifier.predict(X_bal_validation)\n",
        "\n",
        "\n",
        "print('accuracy :{}'.format(accuracy_score(y_bal_validation, y_bal_predicted_validation)))\n",
        "print('precision :{}'.format(precision_score(y_bal_validation, y_bal_predicted_validation)))\n",
        "print('recall: {}'.format(recall_score(y_bal_validation, y_bal_predicted_validation)))\n",
        "print('f1 score: {}'.format(f1_score(y_bal_validation, y_bal_predicted_validation)))"
      ]
    },
    {
      "cell_type": "code",
      "source": [
        "Random_Forest_Classifier = RandomForestClassifier(n_estimators = 20, criterion = 'entropy', random_state = 0)\n",
        "Random_Forest_Classifier.fit(X_bal_train,y_bal_train)\n",
        "y_bal_predicted_validation = Random_Forest_Classifier.predict(X_bal_validation)\n",
        "\n",
        "\n",
        "print('accuracy :{}'.format(accuracy_score(y_bal_validation, y_bal_predicted_validation)))\n",
        "print('precision :{}'.format(precision_score(y_bal_validation, y_bal_predicted_validation)))\n",
        "print('recall: {}'.format(recall_score(y_bal_validation, y_bal_predicted_validation)))\n",
        "print('f1 score: {}'.format(f1_score(y_bal_validation, y_bal_predicted_validation)))"
      ],
      "metadata": {
        "colab": {
          "base_uri": "https://localhost:8080/"
        },
        "id": "nImp70sSBJWL",
        "outputId": "34bd33c2-ba8e-4aed-e449-a7df74f4b9d0"
      },
      "execution_count": null,
      "outputs": [
        {
          "output_type": "stream",
          "name": "stdout",
          "text": [
            "accuracy :0.9996735167685415\n",
            "precision :0.958904109589041\n",
            "recall: 0.8235294117647058\n",
            "f1 score: 0.8860759493670886\n"
          ]
        }
      ]
    },
    {
      "cell_type": "code",
      "execution_count": null,
      "metadata": {
        "colab": {
          "base_uri": "https://localhost:8080/"
        },
        "id": "azkKWBoG8mmG",
        "outputId": "d0f28272-0fba-45d8-fefc-5a6c6051db2a"
      },
      "outputs": [
        {
          "output_type": "stream",
          "name": "stdout",
          "text": [
            "accuracy :0.9994377233235993\n",
            "precision :0.95\n",
            "recall: 0.6705882352941176\n",
            "f1 score: 0.786206896551724\n"
          ]
        }
      ],
      "source": [
        "clf = svm.SVC()\n",
        "clf.fit(X_bal_train, y_bal_train)\n",
        "y_bal_predicted_validation = clf.predict(X_bal_validation)\n",
        "\n",
        "print('accuracy :{}'.format(accuracy_score(y_bal_validation, y_bal_predicted_validation)))\n",
        "print('precision :{}'.format(precision_score(y_bal_validation, y_bal_predicted_validation)))\n",
        "print('recall: {}'.format(recall_score(y_bal_validation, y_bal_predicted_validation)))\n",
        "print('f1 score: {}'.format(f1_score(y_bal_validation, y_bal_predicted_validation)))"
      ]
    },
    {
      "cell_type": "code",
      "execution_count": null,
      "metadata": {
        "id": "bufW1nHM_25a"
      },
      "outputs": [],
      "source": [
        ""
      ]
    }
  ],
  "metadata": {
    "colab": {
      "collapsed_sections": [],
      "name": "CS-419M Group Project.ipynb",
      "provenance": []
    },
    "kernelspec": {
      "display_name": "Python 3",
      "name": "python3"
    },
    "language_info": {
      "name": "python"
    }
  },
  "nbformat": 4,
  "nbformat_minor": 0
}